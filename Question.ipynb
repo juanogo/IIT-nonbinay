{
 "cells": [
  {
   "cell_type": "code",
   "execution_count": 6,
   "metadata": {},
   "outputs": [],
   "source": [
    "import pyphi\n",
    "import numpy as np\n",
    "\n",
    "network = pyphi.examples.fig4()\n",
    "state = (1, 0, 0)\n",
    "subsystem = pyphi.Subsystem(network, state)\n",
    "A, B, C = subsystem.node_indices"
   ]
  },
  {
   "cell_type": "markdown",
   "metadata": {},
   "source": [
    "# Let's find the mip of A/AB and its φ"
   ]
  },
  {
   "cell_type": "code",
   "execution_count": 9,
   "metadata": {},
   "outputs": [
    {
     "data": {
      "text/plain": [
       "Repertoire irreducibility analysis\n",
       "  φ = 0\n",
       "  Mechanism: [A]\n",
       "  Purview = [A, B]\n",
       "  Direction: CAUSE\n",
       "  Partition:\n",
       "     ∅     A \n",
       "    ─── ✕ ───\n",
       "     A     B \n",
       "  Repertoire:\n",
       "    ┌──────────────┐\n",
       "    │ S     Pr(S)  │\n",
       "    │ ╴╴╴╴╴╴╴╴╴╴╴╴ │\n",
       "    │ 00    1/6    │\n",
       "    │ 10    1/6    │\n",
       "    │ 01    1/3    │\n",
       "    │ 11    1/3    │\n",
       "    └──────────────┘\n",
       "  Partitioned repertoire:\n",
       "    ┌──────────────┐\n",
       "    │ S     Pr(S)  │\n",
       "    │ ╴╴╴╴╴╴╴╴╴╴╴╴ │\n",
       "    │ 00    1/6    │\n",
       "    │ 10    1/6    │\n",
       "    │ 01    1/3    │\n",
       "    │ 11    1/3    │\n",
       "    └──────────────┘"
      ]
     },
     "execution_count": 9,
     "metadata": {},
     "output_type": "execute_result"
    }
   ],
   "source": [
    "mechanism=(A,)\n",
    "purview=(A,B)\n",
    "subsystem.cause_mip(mechanism, purview)"
   ]
  },
  {
   "cell_type": "markdown",
   "metadata": {},
   "source": [
    "# PyPhi says that the MIP = ∅/A x A/B and its distance with A/AB is (φ)=0"
   ]
  },
  {
   "cell_type": "markdown",
   "metadata": {},
   "source": [
    "Let's see if we can prove this right:"
   ]
  },
  {
   "cell_type": "markdown",
   "metadata": {},
   "source": [
    "### A/AB="
   ]
  },
  {
   "cell_type": "code",
   "execution_count": 21,
   "metadata": {},
   "outputs": [
    {
     "name": "stdout",
     "output_type": "stream",
     "text": [
      "[0.16666667 0.16666667 0.33333333 0.33333333]\n"
     ]
    }
   ],
   "source": [
    "ans=subsystem.cause_repertoire((A,), (A,B))\n",
    "print(pyphi.distribution.flatten(ans))"
   ]
  },
  {
   "cell_type": "markdown",
   "metadata": {},
   "source": [
    "### ∅/A="
   ]
  },
  {
   "cell_type": "code",
   "execution_count": 22,
   "metadata": {},
   "outputs": [
    {
     "name": "stdout",
     "output_type": "stream",
     "text": [
      "[0.5 0.5]\n"
     ]
    }
   ],
   "source": [
    "ans=subsystem.unconstrained_cause_repertoire((A,))\n",
    "print(pyphi.distribution.flatten(ans))"
   ]
  },
  {
   "cell_type": "markdown",
   "metadata": {},
   "source": [
    "### A/B="
   ]
  },
  {
   "cell_type": "code",
   "execution_count": 23,
   "metadata": {},
   "outputs": [
    {
     "name": "stdout",
     "output_type": "stream",
     "text": [
      "[0.33333333 0.66666667]\n"
     ]
    }
   ],
   "source": [
    "ans=subsystem.cause_repertoire((A,), (B,))\n",
    "print(pyphi.distribution.flatten(ans))"
   ]
  },
  {
   "cell_type": "markdown",
   "metadata": {},
   "source": [
    "###  According to PyPhi, the distance between A/AB  and ∅/A x A/B is 0, threrefore:  A/AB = ∅/A x A/B.\n",
    "\n",
    "A/AB = ∅/A x A/B "
   ]
  },
  {
   "cell_type": "markdown",
   "metadata": {},
   "source": [
    "[1/6 1/6 1/3 1/3] = [0.5, 0.5] x [1/3, 2/3]"
   ]
  },
  {
   "cell_type": "markdown",
   "metadata": {},
   "source": [
    "### Yet, this is not true. \n",
    "\n",
    "Any [online calculator](https://www.medcalc.org/manual/KRON_function.php) can show you that the tensor product of [0.5, 0.5] x [1/3, 2/3] is not [1/6 1/6 1/3 1/3] but [1/6 1/3 1/6 1/3] therefore:\n",
    "\n"
   ]
  },
  {
   "cell_type": "markdown",
   "metadata": {},
   "source": [
    "[1/6 1/6 1/3 1/3] ≠ [0.5, 0.5] x [1/3, 2/3]"
   ]
  },
  {
   "cell_type": "markdown",
   "metadata": {},
   "source": [
    "A/AB ≠ ∅/A x A/B "
   ]
  },
  {
   "cell_type": "markdown",
   "metadata": {},
   "source": [
    "D (A/AB , ∅/A x A/B) ≠ 0"
   ]
  },
  {
   "cell_type": "markdown",
   "metadata": {},
   "source": [
    "Finally, ∅/A x A/B  is not the MIP of A/AB because its distance (φ) is not zero, it is actually 1/3. There are other partitions with less distance"
   ]
  },
  {
   "cell_type": "markdown",
   "metadata": {},
   "source": [
    "This failure is not consistent, sometimes your tensor product is right, sometimes is not. Try for instance B/AB, it works. "
   ]
  },
  {
   "cell_type": "markdown",
   "metadata": {},
   "source": [
    "# If you agree this is a bug in PyPhi, I already know what caused it and how to fix it. Otherwise, please explain what is wrong with my analysis."
   ]
  },
  {
   "cell_type": "code",
   "execution_count": null,
   "metadata": {},
   "outputs": [],
   "source": []
  }
 ],
 "metadata": {
  "kernelspec": {
   "display_name": "Python 3",
   "language": "python",
   "name": "python3"
  },
  "language_info": {
   "codemirror_mode": {
    "name": "ipython",
    "version": 3
   },
   "file_extension": ".py",
   "mimetype": "text/x-python",
   "name": "python",
   "nbconvert_exporter": "python",
   "pygments_lexer": "ipython3",
   "version": "3.6.8"
  }
 },
 "nbformat": 4,
 "nbformat_minor": 2
}
