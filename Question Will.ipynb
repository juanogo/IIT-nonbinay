{
 "cells": [
  {
   "cell_type": "code",
   "execution_count": 2,
   "metadata": {},
   "outputs": [],
   "source": [
    ">>> import pyphi\n",
    ">>> import numpy as np"
   ]
  },
  {
   "cell_type": "code",
   "execution_count": 3,
   "metadata": {},
   "outputs": [],
   "source": [
    ">>> cm = np.array([\n",
    "...     [0, 1, 1],\n",
    "...     [1, 0, 1],\n",
    "...     [1, 1, 0]\n",
    "... ])"
   ]
  },
  {
   "cell_type": "code",
   "execution_count": 4,
   "metadata": {},
   "outputs": [],
   "source": [
    "TPM=np.array([[0., 0., 0., 0., 0., 1., 0., 0.],\n",
    "       [0., 0., 0., 0., 1., 0., 0., 0.],\n",
    "       [0., 1., 0., 0., 0., 0., 0., 0.],\n",
    "       [0., 0., 1., 0., 0., 0., 0., 0.],\n",
    "       [0., 0., 0., 1., 0., 0., 0., 0.],\n",
    "       [0., 0., 1., 0., 0., 0., 0., 0.],\n",
    "       [0., 1., 0., 0., 0., 0., 0., 0.],\n",
    "       [1., 0., 0., 0., 0., 0., 0., 0.]])"
   ]
  },
  {
   "cell_type": "code",
   "execution_count": 5,
   "metadata": {},
   "outputs": [],
   "source": [
    "TPM=pyphi.convert.to_2dimensional(pyphi.convert.state_by_state2state_by_node(TPM))\n",
    "\n",
    "network = pyphi.Network(TPM, cm=cm, node_labels=['A','B','C'])\n",
    "nodes = ('A', 'B', 'C')\n",
    "state = (1, 0, 0)\n",
    "subsystem = pyphi.Subsystem(network, state, nodes)\n",
    "A,B,C=subsystem.node_indices"
   ]
  },
  {
   "cell_type": "code",
   "execution_count": 7,
   "metadata": {},
   "outputs": [
    {
     "name": "stdout",
     "output_type": "stream",
     "text": [
      "[0.13333333 0.06666667 0.26666667 0.13333333 0.06666667 0.06666667\n",
      " 0.13333333 0.13333333]\n"
     ]
    }
   ],
   "source": [
    "mechanism=(A,B,C)\n",
    "purview=(A,B,C)\n",
    "ans=subsystem.cause_repertoire(mechanism, purview)\n",
    "print(pyphi.distribution.flatten(ans))\n"
   ]
  }
 ],
 "metadata": {
  "kernelspec": {
   "display_name": "Python [conda env:myenv] *",
   "language": "python",
   "name": "conda-env-myenv-py"
  },
  "language_info": {
   "codemirror_mode": {
    "name": "ipython",
    "version": 3
   },
   "file_extension": ".py",
   "mimetype": "text/x-python",
   "name": "python",
   "nbconvert_exporter": "python",
   "pygments_lexer": "ipython3",
   "version": "3.6.8"
  }
 },
 "nbformat": 4,
 "nbformat_minor": 2
}
